{
 "cells": [
  {
   "cell_type": "code",
   "execution_count": 8,
   "metadata": {},
   "outputs": [
    {
     "name": "stdout",
     "output_type": "stream",
     "text": [
      "Training Data is : \n",
      "     sky airtemp humidity    wind  water forecast enjoysport\n",
      "0  sunny    warm   normal  strong   warm     same        yes\n",
      "1  sunny    warm     high  strong   warm     same        yes\n",
      "2  rainy    cold     high  strong  warm    change         no\n",
      "3  sunny    warm     high  strong   cool   change        yes\n",
      "\n",
      "The most general hypothesis is: [?,?,?,?,?,?]\n",
      "The most specific hypothesis is :  [0, 0, 0, 0, 0, 0] \n",
      "\n",
      "Positive Samples :  [['sunny', 'warm', 'normal', 'strong', 'warm', 'same'], ['sunny', 'warm', 'high', 'strong', 'warm', 'same'], ['sunny', 'warm', 'high', 'strong', 'cool', 'change']]\n",
      "Negative Samples :  [['rainy', 'cold', 'high', 'strong', 'warm ', 'change']]\n",
      "For training example  0  hypothesis is  ['sunny', 'warm', 'normal', 'strong', 'warm', 'same']\n",
      "For training example  1  hypothesis is  ['sunny', 'warm', '?', 'strong', 'warm', 'same']\n",
      "For training example  2  hypothesis is  ['sunny', 'warm', '?', 'strong', '?', '?']\n",
      "Specific hypothesis is  ['sunny', 'warm', '?', 'strong', '?', '?']\n"
     ]
    }
   ],
   "source": [
    "import pandas as pd\n",
    "import csv\n",
    "td=pd.read_csv('enjoySport.csv')\n",
    "rows=td.shape[0]\n",
    "cols=td.shape[1]\n",
    "print(\"Training Data is : \")\n",
    "print(td)\n",
    "print(\"\\nThe most general hypothesis is: [?,?,?,?,?,?]\")\n",
    "h=[0,0,0,0,0,0]\n",
    "print(\"The most specific hypothesis is : \",h,\"\\n\")\n",
    "positive=[]\n",
    "negative=[]\n",
    "for i in range(rows):\n",
    "    ts=[]\n",
    "    ts.append(td.sky[i])\n",
    "    ts.append(td.airtemp[i])\n",
    "    ts.append(td.humidity[i])\n",
    "    ts.append(td.wind[i])\n",
    "    ts.append(td.water[i])\n",
    "    ts.append(td.forecast[i])\n",
    "    if(td.enjoysport[i]==\"yes\"):\n",
    "        positive.append(ts)\n",
    "    else:\n",
    "        negative.append(ts)\n",
    "print(\"Positive Samples : \",positive)\n",
    "print(\"Negative Samples : \",negative)\n",
    "\n",
    "for i in range(len(positive)):\n",
    "    for j in range(cols-1):\n",
    "        if(h[j]==0):\n",
    "            h[j]=positive[i][j]\n",
    "        if(h[j]!=positive[i][j]):\n",
    "            h[j]='?'\n",
    "    print(\"For training example \",i,\" hypothesis is \",h)\n",
    "print(\"Specific hypothesis is \",h)\n",
    "        "
   ]
  },
  {
   "cell_type": "code",
   "execution_count": null,
   "metadata": {},
   "outputs": [],
   "source": []
  }
 ],
 "metadata": {
  "kernelspec": {
   "display_name": "Python 3",
   "language": "python",
   "name": "python3"
  },
  "language_info": {
   "codemirror_mode": {
    "name": "ipython",
    "version": 3
   },
   "file_extension": ".py",
   "mimetype": "text/x-python",
   "name": "python",
   "nbconvert_exporter": "python",
   "pygments_lexer": "ipython3",
   "version": "3.7.3"
  }
 },
 "nbformat": 4,
 "nbformat_minor": 2
}
