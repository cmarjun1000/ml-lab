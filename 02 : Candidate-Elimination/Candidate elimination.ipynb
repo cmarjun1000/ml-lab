{
 "cells": [
  {
   "cell_type": "code",
   "execution_count": 32,
   "metadata": {},
   "outputs": [
    {
     "name": "stdout",
     "output_type": "stream",
     "text": [
      "     sky airtemp humidity    wind water forecast enjoysport\n",
      "0  sunny    warm   normal  strong  warm     same        yes\n",
      "1  sunny    warm     high  strong  warm     same        yes\n",
      "2  rainy    cold     high  strong  warm   change         no\n",
      "3  sunny    warm     high  strong  cool   change        yes\n"
     ]
    }
   ],
   "source": [
    "import pandas as pd\n",
    "import csv\n",
    "td = pd.read_csv('enjoySport.csv')\n",
    "print(td)\n",
    "samples = []\n",
    "rows = td.shape[0]\n",
    "for i in range(rows):\n",
    "    trainsample=[]\n",
    "    trainsample.append(td.sky[i])\n",
    "    trainsample.append(td.airtemp[i])\n",
    "    trainsample.append(td.humidity[i])\n",
    "    trainsample.append(td.wind[i])\n",
    "    trainsample.append(td.water[i])\n",
    "    trainsample.append(td.forecast[i])\n",
    "    samples.append(trainsample)"
   ]
  },
  {
   "cell_type": "code",
   "execution_count": 33,
   "metadata": {},
   "outputs": [
    {
     "name": "stdout",
     "output_type": "stream",
     "text": [
      "Step 1 : [['?', '?', '?', '?', '?', '?']] ['sunny', 'warm', 'normal', 'strong', 'warm', 'same']\n",
      "Step 2 : [['?', '?', '?', '?', '?', '?']] ['sunny', 'warm', '?', 'strong', 'warm', 'same']\n",
      "Step 3 : [['sunny', '?', '?', '?', '?', '?'], ['?', 'warm', '?', '?', '?', '?'], ['?', '?', '?', '?', '?', 'same']] ['sunny', 'warm', '?', 'strong', 'warm', 'same']\n",
      "Step 4 : [['sunny', '?', '?', '?', '?', '?'], ['?', 'warm', '?', '?', '?', '?']] ['sunny', 'warm', '?', 'strong', '?', '?']\n",
      " \n",
      "Version space is : [['sunny', 'warm', '?', '?', '?', '?'], ['sunny', '?', '?', 'strong', '?', '?'], ['?', 'warm', '?', 'strong', '?', '?']]\n"
     ]
    }
   ],
   "source": [
    "l = len(td) #length = 4\n",
    "S = ['0' , '0' ,'0' , '0' , '0' , '0'] \n",
    "G = [['?' , '?' , '?' , '?' , '?' , '?']]\n",
    "copyG = ['?' , '?' , '?' , '?' , '?' , '?']\n",
    "#inconsistent = [] \n",
    "\n",
    "for i in range(l):\n",
    "    if td.enjoysport[i]==\"yes\":\n",
    "        for hyp in G :\n",
    "            inconsistent = False\n",
    "            for index in range(len(hyp)):\n",
    "                if hyp[index] != samples[i][index] and hyp[index]!='?':\n",
    "                    inconsistent = True \n",
    "                    break\n",
    "            if inconsistent == True :\n",
    "                G.remove(hyp)\n",
    "            \n",
    "            \n",
    "            for index in range(len(S)):\n",
    "                if S[index] == '0':\n",
    "                    S[index] = samples[i][index]\n",
    "                elif S[index]!= samples[i][index]:\n",
    "                    S[index] = '?'\n",
    "    else:\n",
    "        pos = [0 , 0 , 0, 0, 0 , 0]\n",
    "        if copyG in G:\n",
    "            G.remove(copyG)\n",
    "        for index in range(len(S)):\n",
    "            if S[index]!=samples[i][index] and S[index]!='?':\n",
    "                pos[index] = 1\n",
    "        #print(pos) output : [1, 1, 0, 0, 0, 1]\n",
    "        for j in range(len(S)): \n",
    "            gg  = ['?' , '?' , '?' , '?' , '?' , '?']\n",
    "            if pos[j] == 1 :\n",
    "                #print(samples[i][j])\n",
    "                gg[j] = S[j]\n",
    "                if gg not in  G:\n",
    "                    G.append(gg)\n",
    "    print('Step',(i+1),':',G , S)\n",
    "    \n",
    "print(' ')\n",
    "##Version space - I'm just making pairs from S , I don't exactly rememberrr lol :)\n",
    "version_space = []\n",
    "arr = [x for x in range(len(S)) if S[x]!='?'] #Index values of non '?' values\n",
    "length = len(arr) #Typical brute force ensues\n",
    "for i in range(length):\n",
    "    \n",
    "    for j in range(i+1 , length):\n",
    "        \n",
    "        hippie = ['?'] * 6\n",
    "        hippie[arr[i]] = S[arr[i]]\n",
    "        hippie[arr[j]] = S[arr[j]]\n",
    "        version_space.append(hippie)\n",
    "print('Version space is :', version_space)"
   ]
  },
  {
   "cell_type": "code",
   "execution_count": null,
   "metadata": {},
   "outputs": [],
   "source": []
  }
 ],
 "metadata": {
  "kernelspec": {
   "display_name": "Python 3",
   "language": "python",
   "name": "python3"
  },
  "language_info": {
   "codemirror_mode": {
    "name": "ipython",
    "version": 3
   },
   "file_extension": ".py",
   "mimetype": "text/x-python",
   "name": "python",
   "nbconvert_exporter": "python",
   "pygments_lexer": "ipython3",
   "version": "3.7.3"
  }
 },
 "nbformat": 4,
 "nbformat_minor": 2
}
