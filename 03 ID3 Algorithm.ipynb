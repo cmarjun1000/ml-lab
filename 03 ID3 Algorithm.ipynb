{
 "cells": [
  {
   "cell_type": "code",
   "execution_count": 46,
   "metadata": {},
   "outputs": [],
   "source": [
    "import sys\n",
    "import numpy as np\n",
    "from numpy import *\n",
    "import csv\n",
    "import pandas as pd"
   ]
  },
  {
   "cell_type": "code",
   "execution_count": 47,
   "metadata": {},
   "outputs": [],
   "source": [
    "class Node:\n",
    "    def __init__(self, attribute):\n",
    "        self.attribute = attribute\n",
    "        self.children = []\n",
    "        self.answer = \"\""
   ]
  },
  {
   "cell_type": "code",
   "execution_count": 48,
   "metadata": {},
   "outputs": [],
   "source": [
    "def read_data(filename):\n",
    "    \"\"\" read csv file and return header and data  \"\"\"\n",
    "    with open(filename, 'r') as csvfile:\n",
    "        datareader = csv.reader(csvfile, delimiter=',')\n",
    "        metadata = next(datareader)\n",
    "        traindata=[]\n",
    "        for row in datareader:\n",
    "            traindata.append(row)\n",
    "            \n",
    "    return (metadata, traindata)\n"
   ]
  },
  {
   "cell_type": "code",
   "execution_count": 49,
   "metadata": {},
   "outputs": [],
   "source": [
    "def subtables(data, col, delete):\n",
    "    dict = {}\n",
    "    items = np.unique(data[:, col]) # get unique values in a particular column\n",
    "    \n",
    "    count = np.zeros((items.shape[0], 1), dtype=np.int32)   #number of row = number of values \n",
    "    \n",
    "    for x in range(items.shape[0]):\n",
    "        for y in range(data.shape[0]):\n",
    "            if data[y, col] == items[x]:\n",
    "                count[x] += 1\n",
    "    #count has the data of number of times each value is present in\n",
    "                \n",
    "    for x in range(items.shape[0]):\n",
    "        dict[items[x]] = np.empty((int(count[x]), data.shape[1]), dtype=\"|S32\")\n",
    "         \n",
    "        pos = 0\n",
    "        for y in range(data.shape[0]):\n",
    "            if data[y, col] == items[x]:\n",
    "                dict[items[x]][pos] = data[y]\n",
    "                pos += 1     \n",
    "        \n",
    "        if delete:\n",
    "           dict[items[x]] = np.delete(dict[items[x]], col, 1)\n",
    "    return items, dict"
   ]
  },
  {
   "cell_type": "code",
   "execution_count": 50,
   "metadata": {},
   "outputs": [],
   "source": [
    "def entropy(S):\n",
    "    \"\"\" calculate the entropy \"\"\"\n",
    "    items = np.unique(S)\n",
    "    if items.size == 1:\n",
    "        return 0\n",
    "    \n",
    "    counts = np.zeros((items.shape[0], 1))\n",
    "    sums = 0\n",
    "    \n",
    "    for x in range(items.shape[0]):\n",
    "        counts[x] = sum(S == items[x]) / (S.size)\n",
    "        \n",
    "    for count in counts:\n",
    "        sums += -1 * count * math.log(count, 2)\n",
    "    return sums\n"
   ]
  },
  {
   "cell_type": "code",
   "execution_count": 51,
   "metadata": {},
   "outputs": [],
   "source": [
    "def gain_ratio(data, col):\n",
    "    items, dict = subtables(data, col, delete=False) \n",
    "    #item is the unique value and dict is the data corresponding to it\n",
    "    total_size = data.shape[0]\n",
    "    entropies = np.zeros((items.shape[0], 1))\n",
    "      \n",
    "    for x in range(items.shape[0]):\n",
    "        ratio = dict[items[x]].shape[0]/(total_size)\n",
    "        entropies[x] = ratio * entropy(dict[items[x]][:, -1])\n",
    "        \n",
    "        \n",
    "    total_entropy = entropy(data[:, -1])\n",
    "   \n",
    "    \n",
    "    for x in range(entropies.shape[0]):\n",
    "        total_entropy -= entropies[x]\n",
    "        \n",
    "    return total_entropy\n"
   ]
  },
  {
   "cell_type": "code",
   "execution_count": 52,
   "metadata": {},
   "outputs": [],
   "source": [
    "def create_node(data, metadata):\n",
    "\n",
    "    if (np.unique(data[:, -1])).shape[0] == 1: #to check how many rows in last col(yes,no column). shape[0] gives no. of rows \n",
    "        ''' if there is only yes or only no then reutrn a node containing the value '''\n",
    "        node = Node(\"\")\n",
    "        node.answer = np.unique(data[:, -1])\n",
    "        return node\n",
    "     \n",
    "    gains = np.zeros((data.shape[1] - 1, 1))  # data.shape[1] - 1 returns the no of columns in the dataset, minus one to remove last column\n",
    "    #size of gains= number of attribute to calculate gain\n",
    "    #gains is one dim array (size=4) to store the gain of each attribute \n",
    "    \n",
    "    for col in range(data.shape[1] - 1):\n",
    "        gains[col] = gain_ratio(data, col)\n",
    "        \n",
    "    split = np.argmax(gains) # argmax returns the index of the max value\n",
    "  \n",
    "    \n",
    "    node = Node(metadata[split])    \n",
    "    metadata = np.delete(metadata, split, 0)\n",
    "                          \n",
    "    \n",
    "    items, dict = subtables(data, split, delete=True)\n",
    "    \n",
    "    for x in range(items.shape[0]):\n",
    "        child = create_node(dict[items[x]], metadata)\n",
    "        node.children.append((items[x], child))\n",
    "    \n",
    "    return node "
   ]
  },
  {
   "cell_type": "code",
   "execution_count": 53,
   "metadata": {},
   "outputs": [],
   "source": [
    "def empty(size):\n",
    "    \"\"\" To generate empty space needed for shaping the tree\"\"\"\n",
    "    s = \"\"\n",
    "    for x in range(size):\n",
    "        s += \"   \"\n",
    "    return s\n"
   ]
  },
  {
   "cell_type": "code",
   "execution_count": 54,
   "metadata": {},
   "outputs": [],
   "source": [
    "def print_tree(node, level):\n",
    "    if node.answer != \"\":\n",
    "\n",
    "        print(empty(level), node.answer.item(0).decode(\"utf-8\"))\n",
    "        return\n",
    "        \n",
    "    print(empty(level), node.attribute)\n",
    "    \n",
    "    for value, n in node.children:\n",
    "        print(empty(level + 1), value.tobytes().decode(\"utf-8\"))\n",
    "        print_tree(n, level + 2)"
   ]
  },
  {
   "cell_type": "code",
   "execution_count": 57,
   "metadata": {},
   "outputs": [
    {
     "name": "stdout",
     "output_type": "stream",
     "text": [
      " Humidity\n",
      "    H\u0000\u0000\u0000i\u0000\u0000\u0000g\u0000\u0000\u0000h\u0000\u0000\u0000\n",
      "       Outlook\n",
      "          Overcast\n",
      "             Yes\n",
      "          Rain\n",
      "             Wind\n",
      "                Strong\n",
      "                   No\n",
      "                Weak\n",
      "                   Yes\n",
      "          Sunny\n",
      "             No\n",
      "    N\u0000\u0000\u0000o\u0000\u0000\u0000r\u0000\u0000\u0000m\u0000\u0000\u0000a\u0000\u0000\u0000l\u0000\u0000\u0000\n",
      "       Yes\n"
     ]
    }
   ],
   "source": [
    "metadata, traindata = read_data(\"playtennis.csv\")\n",
    "data = np.array(traindata)# to convert the traindata to numpy array\n",
    "node = create_node(data, metadata)\n",
    "print_tree(node, 0)"
   ]
  },
  {
   "cell_type": "code",
   "execution_count": null,
   "metadata": {},
   "outputs": [],
   "source": []
  }
 ],
 "metadata": {
  "kernelspec": {
   "display_name": "Python 3",
   "language": "python",
   "name": "python3"
  },
  "language_info": {
   "codemirror_mode": {
    "name": "ipython",
    "version": 3
   },
   "file_extension": ".py",
   "mimetype": "text/x-python",
   "name": "python",
   "nbconvert_exporter": "python",
   "pygments_lexer": "ipython3",
   "version": "3.7.3"
  }
 },
 "nbformat": 4,
 "nbformat_minor": 2
}
