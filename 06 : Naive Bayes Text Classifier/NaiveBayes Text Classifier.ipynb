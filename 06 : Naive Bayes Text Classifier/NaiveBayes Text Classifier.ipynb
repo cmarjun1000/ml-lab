{
 "cells": [
  {
   "cell_type": "code",
   "execution_count": 39,
   "metadata": {},
   "outputs": [],
   "source": [
    "import numpy as np\n",
    "import sklearn.datasets as skd\n",
    "from sklearn.pipeline import Pipeline\n",
    "from sklearn.feature_extraction.text import CountVectorizer\n",
    "from sklearn.feature_extraction.text import TfidfTransformer\n",
    "from sklearn.feature_extraction.text import TfidfVectorizer\n",
    "from sklearn.naive_bayes import MultinomialNB\n",
    "from sklearn.metrics import accuracy_score\n",
    "from sklearn import metrics"
   ]
  },
  {
   "cell_type": "code",
   "execution_count": 40,
   "metadata": {},
   "outputs": [
    {
     "name": "stdout",
     "output_type": "stream",
     "text": [
      "['alt.atheism', 'comp.graphics', 'sci.med', 'soc.religion.christian']\n"
     ]
    }
   ],
   "source": [
    "categories = ['alt.atheism','comp.graphics','sci.med','soc.religion.christian']\n",
    "news_train = skd.load_files(r\"20news-bydate-train\",categories=categories,encoding=\"ISO-8859-1\")\n",
    "news_test = skd.load_files(r\"20news-bydate-test\",categories=categories,encoding=\"ISO-8859-1\")\n",
    "print(news_train.target_names)"
   ]
  },
  {
   "cell_type": "code",
   "execution_count": 41,
   "metadata": {},
   "outputs": [
    {
     "name": "stdout",
     "output_type": "stream",
     "text": [
      "(2257, 35788)\n",
      "  (0, 1490)\t1\n",
      "  (0, 4143)\t2\n",
      "  (0, 4435)\t1\n",
      "  (0, 4720)\t2\n",
      "  (0, 4745)\t2\n",
      "  (0, 4847)\t1\n",
      "  (0, 4938)\t3\n",
      "  (0, 4992)\t5\n",
      "  (0, 5012)\t2\n",
      "  (0, 5015)\t1\n",
      "  (0, 5110)\t2\n",
      "  (0, 5198)\t1\n",
      "  (0, 5410)\t4\n",
      "  (0, 5529)\t1\n",
      "  (0, 5549)\t4\n",
      "  (0, 5698)\t3\n",
      "  (0, 6057)\t1\n",
      "  (0, 6298)\t4\n",
      "  (0, 6358)\t1\n",
      "  (0, 6371)\t1\n",
      "  (0, 6412)\t1\n",
      "  (0, 6430)\t1\n",
      "  (0, 6765)\t1\n",
      "  (0, 7297)\t2\n",
      "  (0, 7480)\t1\n",
      "  :\t:\n",
      "  (2256, 28760)\t1\n",
      "  (2256, 28772)\t1\n",
      "  (2256, 29130)\t1\n",
      "  (2256, 29204)\t1\n",
      "  (2256, 29724)\t1\n",
      "  (2256, 31077)\t1\n",
      "  (2256, 31428)\t1\n",
      "  (2256, 32142)\t2\n",
      "  (2256, 32221)\t1\n",
      "  (2256, 32233)\t1\n",
      "  (2256, 32270)\t2\n",
      "  (2256, 32426)\t1\n",
      "  (2256, 32493)\t3\n",
      "  (2256, 32898)\t1\n",
      "  (2256, 32973)\t1\n",
      "  (2256, 33256)\t4\n",
      "  (2256, 33996)\t1\n",
      "  (2256, 34120)\t1\n",
      "  (2256, 34923)\t1\n",
      "  (2256, 34935)\t2\n",
      "  (2256, 34954)\t1\n",
      "  (2256, 35275)\t1\n",
      "  (2256, 35584)\t2\n",
      "  (2256, 35638)\t3\n",
      "  (2256, 35648)\t1\n",
      "(2257, 35788)\n",
      "  (0, 35587)\t0.04031237498954999\n",
      "  (0, 35350)\t0.02079753477926475\n",
      "  (0, 35306)\t0.15431706755535907\n",
      "  (0, 35057)\t0.026878539728004837\n",
      "  (0, 34982)\t0.053591543874503725\n",
      "  (0, 34948)\t0.04415900366273268\n",
      "  (0, 34703)\t0.023760391692498023\n",
      "  (0, 34229)\t0.03226592389632918\n",
      "  (0, 34120)\t0.036279596003409326\n",
      "  (0, 33973)\t0.07210554627296209\n",
      "  (0, 33875)\t0.09051915906939702\n",
      "  (0, 33820)\t0.06807685169409872\n",
      "  (0, 33597)\t0.025613181000472118\n",
      "  (0, 33253)\t0.061307119093227704\n",
      "  (0, 33119)\t0.09611620766320343\n",
      "  (0, 32922)\t0.1657242273600275\n",
      "  (0, 32875)\t0.07438994138651536\n",
      "  (0, 32847)\t0.055617067429271326\n",
      "  (0, 32493)\t0.09942206500970853\n",
      "  (0, 32295)\t0.06818167412829569\n",
      "  (0, 32270)\t0.01861921992003411\n",
      "  (0, 32253)\t0.02894259454261599\n",
      "  (0, 32202)\t0.0456031630418951\n",
      "  (0, 32164)\t0.031184477345864256\n",
      "  (0, 32142)\t0.1106387820449843\n",
      "  :\t:\n",
      "  (2256, 8443)\t0.17164207618252722\n",
      "  (2256, 8392)\t0.06535512448083891\n",
      "  (2256, 7965)\t0.03975031571077442\n",
      "  (2256, 7505)\t0.02342911007930673\n",
      "  (2256, 7480)\t0.019786850863030895\n",
      "  (2256, 7089)\t0.09849278356203221\n",
      "  (2256, 6936)\t0.094776097923407\n",
      "  (2256, 6921)\t0.08582103809126361\n",
      "  (2256, 6358)\t0.02993437831183143\n",
      "  (2256, 6107)\t0.189552195846814\n",
      "  (2256, 5698)\t0.02348083955947144\n",
      "  (2256, 5549)\t0.021118873193787156\n",
      "  (2256, 5410)\t0.019983049324749036\n",
      "  (2256, 4992)\t0.01465601692307084\n",
      "  (2256, 4938)\t0.023313470536792863\n",
      "  (2256, 4852)\t0.09321633358798559\n",
      "  (2256, 4720)\t0.04915111792926749\n",
      "  (2256, 4369)\t0.07275174062544473\n",
      "  (2256, 4039)\t0.049028955758990675\n",
      "  (2256, 3249)\t0.06535512448083891\n",
      "  (2256, 2038)\t0.058755553490849426\n",
      "  (2256, 1686)\t0.09849278356203221\n",
      "  (2256, 1421)\t0.04744500481655213\n",
      "  (2256, 966)\t0.046798899168232294\n",
      "  (2256, 247)\t0.09849278356203221\n"
     ]
    }
   ],
   "source": [
    "count = CountVectorizer()\n",
    "tfid = TfidfTransformer()\n",
    "x_train = count.fit_transform(news_train.data) #word count\n",
    "x_train_tfid = tfid.fit_transform(x_train) #term frequency and inverse document frequency\n",
    "print(x_train.shape)\n",
    "print(x_train)\n",
    "print(x_train_tfid.shape)\n",
    "print(x_train_tfid)"
   ]
  },
  {
   "cell_type": "code",
   "execution_count": 42,
   "metadata": {},
   "outputs": [
    {
     "name": "stdout",
     "output_type": "stream",
     "text": [
      "3\n",
      "1\n"
     ]
    }
   ],
   "source": [
    "a = MultinomialNB().fit(x_train_tfid,news_train.target) #Naive Bayes Classifier\n",
    "doc = ['god is love','openGL on the GPU is fast'] #test sample\n",
    "x_new_counts = count.transform(doc)\n",
    "x_new_tfid = tfid.transform(x_new_counts)\n",
    "predicted = a.predict(x_new_tfid) #to test the data\n",
    "for x in predicted:\n",
    "    print(x)\n",
    "    "
   ]
  },
  {
   "cell_type": "code",
   "execution_count": 43,
   "metadata": {},
   "outputs": [],
   "source": [
    "text_clf = Pipeline([('vect',TfidfVectorizer()),('clf',MultinomialNB())])\n",
    "text_clf.fit(news_train.data,news_train.target) #train the model\n",
    "predicted = text_clf.predict(news_test.data) #predict the test cases"
   ]
  },
  {
   "cell_type": "code",
   "execution_count": 44,
   "metadata": {},
   "outputs": [
    {
     "name": "stdout",
     "output_type": "stream",
     "text": [
      "Accuracy achieved is 0.8348868175765646\n",
      "                        precision    recall  f1-score   support\n",
      "\n",
      "           alt.atheism       0.97      0.60      0.74       319\n",
      "         comp.graphics       0.96      0.89      0.92       389\n",
      "               sci.med       0.97      0.81      0.88       396\n",
      "soc.religion.christian       0.65      0.99      0.78       398\n",
      "\n",
      "             micro avg       0.83      0.83      0.83      1502\n",
      "             macro avg       0.89      0.82      0.83      1502\n",
      "          weighted avg       0.88      0.83      0.84      1502\n",
      "\n",
      "[[192   2   6 119]\n",
      " [  2 347   4  36]\n",
      " [  2  11 322  61]\n",
      " [  2   2   1 393]]\n"
     ]
    }
   ],
   "source": [
    "#calculate precision and recall\n",
    "print('Accuracy achieved is '+str(np.mean(predicted == news_test.target)))\n",
    "print(metrics.classification_report(news_test.target,predicted,target_names=news_test.target_names))\n",
    "print(metrics.confusion_matrix(news_test.target,predicted))"
   ]
  },
  {
   "cell_type": "code",
   "execution_count": null,
   "metadata": {},
   "outputs": [],
   "source": []
  }
 ],
 "metadata": {
  "kernelspec": {
   "display_name": "Python 3",
   "language": "python",
   "name": "python3"
  },
  "language_info": {
   "codemirror_mode": {
    "name": "ipython",
    "version": 3
   },
   "file_extension": ".py",
   "mimetype": "text/x-python",
   "name": "python",
   "nbconvert_exporter": "python",
   "pygments_lexer": "ipython3",
   "version": "3.7.3"
  }
 },
 "nbformat": 4,
 "nbformat_minor": 2
}
