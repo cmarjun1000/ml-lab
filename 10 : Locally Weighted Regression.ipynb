{
 "cells": [
  {
   "cell_type": "code",
   "execution_count": 40,
   "metadata": {},
   "outputs": [],
   "source": [
    "import pandas as pd\n",
    "import numpy as np\n",
    "import matplotlib.pyplot as plt\n",
    "\n",
    "tou=0.8\n",
    "xtrain = np.array(list(range(3,33))+[3,2,4.2])"
   ]
  },
  {
   "cell_type": "code",
   "execution_count": 41,
   "metadata": {},
   "outputs": [
    {
     "name": "stdout",
     "output_type": "stream",
     "text": [
      "[[ 3. ]\n",
      " [ 4. ]\n",
      " [ 5. ]\n",
      " [ 6. ]\n",
      " [ 7. ]\n",
      " [ 8. ]\n",
      " [ 9. ]\n",
      " [10. ]\n",
      " [11. ]\n",
      " [12. ]\n",
      " [13. ]\n",
      " [14. ]\n",
      " [15. ]\n",
      " [16. ]\n",
      " [17. ]\n",
      " [18. ]\n",
      " [19. ]\n",
      " [20. ]\n",
      " [21. ]\n",
      " [22. ]\n",
      " [23. ]\n",
      " [24. ]\n",
      " [25. ]\n",
      " [26. ]\n",
      " [27. ]\n",
      " [28. ]\n",
      " [29. ]\n",
      " [30. ]\n",
      " [31. ]\n",
      " [32. ]\n",
      " [ 3. ]\n",
      " [ 2. ]\n",
      " [ 4.2]]\n"
     ]
    }
   ],
   "source": [
    "xtrain = xtrain[:,np.newaxis]\n",
    "print(xtrain)"
   ]
  },
  {
   "cell_type": "code",
   "execution_count": 42,
   "metadata": {},
   "outputs": [],
   "source": [
    "ytrain = np.array([1,2,1,2,1,1,3,4,5,4,5,6,5,6,7,8,9,10,11,12,11,12,11,11,12,13,16,17,19,18,34,21,22])\n",
    "xtest = np.array([i/10. for i in range(400)])\n",
    "xtest = xtest[:,np.newaxis]\n",
    "ytest=[]"
   ]
  },
  {
   "cell_type": "code",
   "execution_count": 43,
   "metadata": {},
   "outputs": [],
   "source": [
    "count=0;\n",
    "for r in range(len(xtest)):\n",
    "    try:\n",
    "        wt = np.exp(-np.sum((xtrain-xtest[r])**2,axis=1)/(2*tou)**2)\n",
    "        w = np.diag(wt)\n",
    "        fact1 = np.linalg.inv(xtrain.T.dot(w).dot(xtrain))\n",
    "        parameter = fact1.dot(xtrain.T).dot(w).dot(ytrain)\n",
    "        prediction = xtest[r].dot(parameter)\n",
    "        ytest.append(prediction)\n",
    "        count = count+1\n",
    "    except:\n",
    "        pass"
   ]
  },
  {
   "cell_type": "code",
   "execution_count": 44,
   "metadata": {},
   "outputs": [
    {
     "data": {
      "image/png": "[encoded data removed]",
      "text/plain": [
       "<Figure size 432x288 with 1 Axes>"
      ]
     },
     "metadata": {
      "needs_background": "light"
     },
     "output_type": "display_data"
    },
    {
     "data": {
      "text/plain": [
       "array([ 0.        ,  0.83375462,  1.64377925,  2.42894249,  3.18815999,\n",
       "        3.92040259,  4.62470371,  5.3001659 ,  5.94596646,  6.56136204,\n",
       "        7.14569243,  7.69838336,  8.21894854,  8.70699096,  9.16220362,\n",
       "        9.58436968,  9.9733622 , 10.32914332, 10.65176301, 10.94135711,\n",
       "       11.19814468, 11.42242431, 11.61456927, 11.77502134, 11.90428304,\n",
       "       12.00290839, 12.07149207, 12.11065737, 12.12104328, 12.10329132,\n",
       "       12.05803284, 11.98587788, 11.88740653, 11.76316407, 11.61366094,\n",
       "       11.43937866, 11.24078262, 11.01834226, 10.772559  , 10.50400144,\n",
       "       10.21334706,  9.90142874,  9.56928374,  9.21820203,  8.84977004,\n",
       "        8.4659057 ,  8.06888004,  7.66132127,  7.24619757,  6.82677659,\n",
       "        6.40656113,  5.989203  ,  5.57839916,  5.17777685,  4.79077551,\n",
       "        4.42053474,  4.06979674,  3.74083075,  3.43538451,  3.15466534,\n",
       "        2.89935018,  2.66962146,  2.46522373,  2.28553451,  2.12964259,\n",
       "        1.9964275 ,  1.88463455,  1.79294134,  1.72001314,  1.66454561,\n",
       "        1.62529498,  1.60109627,  1.59087127,  1.59362796,  1.60845359,\n",
       "        1.63450346,  1.67098714,  1.71715401,  1.77227932,  1.83565178,\n",
       "        1.90656352,  1.98430269,  2.06814889,  2.15737132,  2.25122944,\n",
       "        2.34897565,  2.44985963,  2.5531338 ,  2.65805945,  2.76391308,\n",
       "        2.86999261,  2.97562328,  3.08016293,  3.18300676,  3.2835915 ,\n",
       "        3.38139904,  3.4759598 ,  3.56685584,  3.65372391,  3.73625855,\n",
       "        3.81421523,  3.88741353,  3.95574031,  4.01915247,  4.07767931,\n",
       "        4.13142399,  4.18056381,  4.22534896,  4.26609955,  4.3032005 ,\n",
       "        4.33709436,  4.36827188,  4.3972606 ,  4.42461152,  4.4508844 ,\n",
       "        4.47663211,  4.50238453,  4.52863275,  4.55581426,  4.58429957,\n",
       "        4.61438113,  4.6462649 ,  4.68006501,  4.71580187,  4.75340375,\n",
       "        4.79271197,  4.83348935,  4.87543173,  4.91818219,  4.96134716,\n",
       "        5.00451411,  5.04726992,  5.08921917,  5.13000188,  5.16930963,\n",
       "        5.20689976,  5.24260685,  5.27635113,  5.3081435 ,  5.33808691,\n",
       "        5.3663742 ,  5.39328233,  5.41916351,  5.4444335 ,  5.46955768,\n",
       "        5.49503549,  5.52138402,  5.54912132,  5.57875029,  5.61074374,\n",
       "        5.64553118,  5.68348779,  5.72492601,  5.7700898 ,  5.81915171,\n",
       "        5.87221267,  5.92930428,  5.9903932 ,  6.05538748,  6.12414409,\n",
       "        6.1964775 ,  6.27216863,  6.35097385,  6.43263371,  6.51688097,\n",
       "        6.60344785,  6.69207217,  6.78250247,  6.87450193,  6.96785122,\n",
       "        7.06235037,  7.15781963,  7.25409966,  7.35105102,  7.44855317,\n",
       "        7.54650312,  7.6448138 ,  7.74341238,  7.84223842,  7.94124215,\n",
       "        8.04038267,  8.13962637,  8.23894537,  8.33831609,  8.43771785,\n",
       "        8.53713158,  8.63653862,  8.73591935,  8.83525204,  8.9345114 ,\n",
       "        9.03366726,  9.13268305,  9.23151417,  9.33010633,  9.42839372,\n",
       "        9.52629723,  9.62372258,  9.72055856,  9.81667546,  9.91192372,\n",
       "       10.006133  , 10.09911175, 10.19064747, 10.28050772, 10.36844205,\n",
       "       10.45418489, 10.53745951, 10.61798297, 10.69547209, 10.76965015,\n",
       "       10.84025441, 10.9070438 , 10.96980685, 11.02836915, 11.08260017,\n",
       "       11.13241889, 11.17779796, 11.21876591, 11.25540731, 11.28786063,\n",
       "       11.31631377, 11.34099745, 11.36217661, 11.38014027, 11.39519044,\n",
       "       11.40763052, 11.41775397, 11.42583389, 11.4321142 , 11.43680283,\n",
       "       11.44006756, 11.44203464, 11.44279041, 11.4423857 , 11.4408429 ,\n",
       "       11.43816517, 11.43434722, 11.42938703, 11.42329774, 11.41611902,\n",
       "       11.4079272 , 11.39884357, 11.38904046, 11.37874457, 11.36823774,\n",
       "       11.35785478, 11.34797893, 11.33903492, 11.33148041, 11.32579597,\n",
       "       11.32247448, 11.32201029, 11.32488881, 11.33157694, 11.3425148 ,\n",
       "       11.35810896, 11.3787275 , 11.4046969 , 11.43630064, 11.47377956,\n",
       "       11.51733357, 11.56712455, 11.62327994, 11.68589673, 11.75504548,\n",
       "       11.83077387, 11.91310963, 12.0020623 , 12.09762401, 12.19976881,\n",
       "       12.3084508 , 12.42360106, 12.54512365, 12.67289089, 12.80673846,\n",
       "       12.94646054, 13.09180554, 13.24247285, 13.39811088, 13.55831676,\n",
       "       13.72263789, 13.89057536, 14.06158916, 14.23510505, 14.4105227 ,\n",
       "       14.58722479, 14.76458648, 14.94198489, 15.11880796, 15.2944625 ,\n",
       "       15.46838084, 15.64002614, 15.80889607, 15.97452508, 16.13648538,\n",
       "       16.29438696, 16.44787697, 16.59663889, 16.74039179, 16.87889002,\n",
       "       17.01192352, 17.13931878, 17.26094048, 17.37669353, 17.48652537,\n",
       "       17.5904281 , 17.68844019, 17.78064732, 17.86718233, 17.94822379,\n",
       "       18.02399341, 18.09475223, 18.1607956 , 18.22244742, 18.28005369,\n",
       "       18.33397575, 18.38458352, 18.43224897, 18.47734004, 18.52021526,\n",
       "       18.56121905, 18.60067793, 18.63889758, 18.67616068, 18.71272556,\n",
       "       18.74882561, 18.78466916, 18.82044002, 18.85629834, 18.89238178,\n",
       "       18.92880702, 18.96567128, 19.00305401, 19.0410186 , 19.07961407,\n",
       "       19.11887668, 19.15883155, 19.19949405, 19.24087124, 19.28296308,\n",
       "       19.32576355, 19.3692617 , 19.41344256, 19.45828793, 19.50377706,\n",
       "       19.54988733, 19.59659471, 19.64387427, 19.6917005 , 19.74004772,\n",
       "       19.78889025, 19.83820273, 19.8879602 , 19.93813834, 19.98871352,\n",
       "       20.03966289, 20.09096447, 20.14259718, 20.19454086, 20.24677627,\n",
       "       20.29928514, 20.35205012, 20.40505476, 20.45828353, 20.51172176,\n",
       "       20.56535564, 20.61917215, 20.67315906, 20.72730489, 20.78159886,\n",
       "       20.83603087, 20.89059147, 20.9452718 , 21.0000636 , 21.05495913,\n",
       "       21.10995117, 21.16503298, 21.22019827, 21.27544117, 21.33075622,\n",
       "       21.38613833, 21.44158275, 21.49708506, 21.55264115, 21.6082472 ,\n",
       "       21.66389964, 21.71959517, 21.7753307 , 21.83110337, 21.88691052,\n",
       "       21.94274969, 21.99861856, 22.054515  , 22.11043704, 22.16638283,\n",
       "       22.22235065, 22.27833893, 22.33434618, 22.39037103, 22.44641222])"
      ]
     },
     "execution_count": 44,
     "metadata": {},
     "output_type": "execute_result"
    }
   ],
   "source": [
    "ytest = np.array(ytest)\n",
    "plt.plot(xtrain.squeeze(),ytrain,'o')\n",
    "plt.plot(xtest.squeeze(),ytest,'*')\n",
    "plt.show()\n",
    "ytest"
   ]
  },
  {
   "cell_type": "code",
   "execution_count": null,
   "metadata": {},
   "outputs": [],
   "source": []
  }
 ],
 "metadata": {
  "kernelspec": {
   "display_name": "Python 3",
   "language": "python",
   "name": "python3"
  },
  "language_info": {
   "codemirror_mode": {
    "name": "ipython",
    "version": 3
   },
   "file_extension": ".py",
   "mimetype": "text/x-python",
   "name": "python",
   "nbconvert_exporter": "python",
   "pygments_lexer": "ipython3",
   "version": "3.7.3"
  }
 },
 "nbformat": 4,
 "nbformat_minor": 2
}
