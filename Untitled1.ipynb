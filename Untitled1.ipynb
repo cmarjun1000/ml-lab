{
 "cells": [
  {
   "cell_type": "code",
   "execution_count": 34,
   "metadata": {},
   "outputs": [],
   "source": [
    "import csv\n"
   ]
  },
  {
   "cell_type": "code",
   "execution_count": 35,
   "metadata": {},
   "outputs": [],
   "source": [
    "def more_general(h1, h2):\n",
    "    more_general_parts = []\n",
    "    for x,y in zip(h1, h2):\n",
    "        mg = x == \"?\" or (x != \"0\" and (x == y or y == \"0\"))\n",
    "        more_general_parts.append(mg)\n",
    "    return all(more_general_parts)\n",
    "#l1 = [1, 2, 3]\n",
    "#l2 = [3, 4, 5]\n",
    "\n",
    "#list(zip(11,12))"
   ]
  },
  {
   "cell_type": "code",
   "execution_count": 36,
   "metadata": {},
   "outputs": [],
   "source": [
    "# min_generalizations\n",
    "def fulfills(example, hypothesis):\n",
    "    return more_general(hypothesis, example)\n",
    "\n",
    "def min_generalizations(h, x):\n",
    "    h_new = list(h)\n",
    "    for i in range(len(h)):\n",
    "        if not fulfills(x[i:i+1], h[i:i+1]):\n",
    "            h_new[i] = '?' if h[i] != '0' else x[i]\n",
    "    return [tuple(h_new)]\n"
   ]
  },
  {
   "cell_type": "code",
   "execution_count": 37,
   "metadata": {},
   "outputs": [
    {
     "data": {
      "text/plain": [
       "[('rainy', 'windy', '?')]"
      ]
     },
     "execution_count": 37,
     "metadata": {},
     "output_type": "execute_result"
    }
   ],
   "source": [
    "min_generalizations(h=('0', '0' , 'sunny'),\n",
    "                    x=('rainy', 'windy', 'cloudy'))"
   ]
  },
  {
   "cell_type": "code",
   "execution_count": 38,
   "metadata": {},
   "outputs": [],
   "source": [
    "def min_specializations(h, domains, x):\n",
    "    results = []\n",
    "    for i in range(len(h)):\n",
    "        if h[i] == \"?\":\n",
    "            for val in domains[i]:\n",
    "                if x[i] != val:\n",
    "                    h_new = h[:i] + (val,) + h[i+1:]\n",
    "                    results.append(h_new)\n",
    "        elif h[i] != \"0\":\n",
    "                    h_new = h[:i] + ('0',) + h[i+1:]\n",
    "                    results.append(h_new)\n",
    "    return results"
   ]
  },
  {
   "cell_type": "code",
   "execution_count": 39,
   "metadata": {},
   "outputs": [
    {
     "data": {
      "text/plain": [
       "[('a', 'x'), ('c', 'x'), ('?', '0')]"
      ]
     },
     "execution_count": 39,
     "metadata": {},
     "output_type": "execute_result"
    }
   ],
   "source": [
    "min_specializations(h=('?', 'x',),\n",
    "                    domains=[['a', 'b', 'c'], ['x', 'y']],\n",
    "                    x=('b', 'x'))"
   ]
  },
  {
   "cell_type": "code",
   "execution_count": 47,
   "metadata": {},
   "outputs": [
    {
     "data": {
      "text/plain": [
       "[('sunny', 'warm', 'normal', 'strong', 'warm', 'same', 'yes'),\n",
       " ('sunny', 'warm', 'high', 'strong', 'warm', 'same', 'yes'),\n",
       " ('rainy', 'cold', 'high', 'strong', 'warm', 'change', 'no'),\n",
       " ('sunny', 'warm', 'high', 'strong', 'cool', 'change', 'yes')]"
      ]
     },
     "execution_count": 47,
     "metadata": {},
     "output_type": "execute_result"
    }
   ],
   "source": [
    "with open('datset.csv') as csvFile:\n",
    "        examples = [tuple(line) for line in csv.reader(csvFile)]\n",
    "        \n",
    "examples"
   ]
  },
  {
   "cell_type": "code",
   "execution_count": 46,
   "metadata": {},
   "outputs": [
    {
     "data": {
      "text/plain": [
       "[['rainy', 'sunny'],\n",
       " ['cold', 'warm'],\n",
       " ['high', 'normal'],\n",
       " ['strong'],\n",
       " ['cool', 'warm'],\n",
       " ['change', 'same'],\n",
       " ['no', 'yes']]"
      ]
     },
     "execution_count": 46,
     "metadata": {},
     "output_type": "execute_result"
    }
   ],
   "source": [
    "def get_domains(examples):\n",
    "    d = [set() for i in examples[0]]\n",
    "    for x in examples:\n",
    "        for i, x1 in enumerate(x):\n",
    "            d[i].add(x1)\n",
    "    return [list(sorted(x)) for x in d]\n",
    "get_domains(examples)"
   ]
  },
  {
   "cell_type": "code",
   "execution_count": null,
   "metadata": {},
   "outputs": [],
   "source": [
    "def generalize_S(x, G, S):\n",
    "    S_prev + list(S)"
   ]
  }
 ],
 "metadata": {
  "kernelspec": {
   "display_name": "Python 3",
   "language": "python",
   "name": "python3"
  },
  "language_info": {
   "codemirror_mode": {
    "name": "ipython",
    "version": 3
   },
   "file_extension": ".py",
   "mimetype": "text/x-python",
   "name": "python",
   "nbconvert_exporter": "python",
   "pygments_lexer": "ipython3",
   "version": "3.7.3"
  }
 },
 "nbformat": 4,
 "nbformat_minor": 2
}
